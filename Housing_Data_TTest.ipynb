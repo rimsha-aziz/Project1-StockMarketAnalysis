{
 "cells": [
  {
   "cell_type": "code",
   "execution_count": 1,
   "metadata": {},
   "outputs": [],
   "source": [
    "import pandas as pd\n",
    "import scipy.stats as stats\n",
    "import matplotlib.pyplot as plt\n",
    "import matplotlib.style as style"
   ]
  },
  {
   "cell_type": "code",
   "execution_count": 2,
   "metadata": {},
   "outputs": [
    {
     "data": {
      "text/html": [
       "<div>\n",
       "<style scoped>\n",
       "    .dataframe tbody tr th:only-of-type {\n",
       "        vertical-align: middle;\n",
       "    }\n",
       "\n",
       "    .dataframe tbody tr th {\n",
       "        vertical-align: top;\n",
       "    }\n",
       "\n",
       "    .dataframe thead th {\n",
       "        text-align: right;\n",
       "    }\n",
       "</style>\n",
       "<table border=\"1\" class=\"dataframe\">\n",
       "  <thead>\n",
       "    <tr style=\"text-align: right;\">\n",
       "      <th></th>\n",
       "      <th>avg_price</th>\n",
       "    </tr>\n",
       "    <tr>\n",
       "      <th>date</th>\n",
       "      <th></th>\n",
       "    </tr>\n",
       "  </thead>\n",
       "  <tbody>\n",
       "    <tr>\n",
       "      <th>1988-01-01</th>\n",
       "      <td>120580</td>\n",
       "    </tr>\n",
       "    <tr>\n",
       "      <th>1988-02-01</th>\n",
       "      <td>123071</td>\n",
       "    </tr>\n",
       "    <tr>\n",
       "      <th>1988-03-01</th>\n",
       "      <td>122809</td>\n",
       "    </tr>\n",
       "    <tr>\n",
       "      <th>1988-04-01</th>\n",
       "      <td>126630</td>\n",
       "    </tr>\n",
       "    <tr>\n",
       "      <th>1988-05-01</th>\n",
       "      <td>127309</td>\n",
       "    </tr>\n",
       "    <tr>\n",
       "      <th>...</th>\n",
       "      <td>...</td>\n",
       "    </tr>\n",
       "    <tr>\n",
       "      <th>2019-10-01</th>\n",
       "      <td>518389</td>\n",
       "    </tr>\n",
       "    <tr>\n",
       "      <th>2019-11-01</th>\n",
       "      <td>524478</td>\n",
       "    </tr>\n",
       "    <tr>\n",
       "      <th>2019-12-01</th>\n",
       "      <td>524625</td>\n",
       "    </tr>\n",
       "    <tr>\n",
       "      <th>2020-01-01</th>\n",
       "      <td>526804</td>\n",
       "    </tr>\n",
       "    <tr>\n",
       "      <th>2020-02-01</th>\n",
       "      <td>535978</td>\n",
       "    </tr>\n",
       "  </tbody>\n",
       "</table>\n",
       "<p>386 rows × 1 columns</p>\n",
       "</div>"
      ],
      "text/plain": [
       "            avg_price\n",
       "date                 \n",
       "1988-01-01     120580\n",
       "1988-02-01     123071\n",
       "1988-03-01     122809\n",
       "1988-04-01     126630\n",
       "1988-05-01     127309\n",
       "...               ...\n",
       "2019-10-01     518389\n",
       "2019-11-01     524478\n",
       "2019-12-01     524625\n",
       "2020-01-01     526804\n",
       "2020-02-01     535978\n",
       "\n",
       "[386 rows x 1 columns]"
      ]
     },
     "execution_count": 2,
     "metadata": {},
     "output_type": "execute_result"
    }
   ],
   "source": [
    "#Import housing data from csv\n",
    "housing_file = 'Resources/housing_data.csv'\n",
    "housing_data = pd.read_csv(housing_file,index_col=0)\n",
    "housing_data.set_index('date',inplace=True)\n",
    "housing_data"
   ]
  },
  {
   "cell_type": "code",
   "execution_count": 11,
   "metadata": {},
   "outputs": [
    {
     "data": {
      "image/png": "[encoded data removed]",
      "text/plain": [
       "<Figure size 864x432 with 1 Axes>"
      ]
     },
     "metadata": {},
     "output_type": "display_data"
    }
   ],
   "source": [
    "#Get housing data from pre 2008 recession data and TTest with 2008 recession data\n",
    "pre_2008_recession_housing_data = housing_data['2004-01-01':'2007-10-01']['avg_price']\n",
    "recession_2008_housing_data = housing_data['2007-11-01':'2009:03-01']['avg_price']\n",
    "\n",
    "style.use('seaborn-darkgrid')\n",
    "plt.figure(figsize=(12,6))\n",
    "plt.rc('font', family='serif')\n",
    "plt.hist(pre_2008_recession_housing_data, 20, density=True, alpha=0.7, label=\"pre 2008 recession housing data\")\n",
    "plt.hist(recession_2008_housing_data, 20, density=True, alpha=0.7, label=\"2008 recession housing data\")\n",
    "plt.axvline(pre_2008_recession_housing_data.mean(), color='k', linestyle='dashed', linewidth=1)\n",
    "plt.axvline(recession_2008_housing_data.mean(), color='k', linestyle='dashed', linewidth=1)\n",
    "plt.title('Histogram for Pre 2008 recession housing data and 2008 recession housing data',fontsize=14)\n",
    "plt.legend()  \n",
    "plt.savefig('Images/Histogram for Pre 2008 recession housing data and 2008 recession housing data.png')"
   ]
  },
  {
   "cell_type": "code",
   "execution_count": 13,
   "metadata": {},
   "outputs": [
    {
     "data": {
      "text/plain": [
       "Ttest_1sampResult(statistic=12.860464268421484, pvalue=1.604904090174125e-12)"
      ]
     },
     "execution_count": 13,
     "metadata": {},
     "output_type": "execute_result"
    }
   ],
   "source": [
    "stats.ttest_1samp(recession_2008_housing_data,pre_2008_recession_housing_data.mean())"
   ]
  },
  {
   "cell_type": "code",
   "execution_count": null,
   "metadata": {},
   "outputs": [],
   "source": []
  }
 ],
 "metadata": {
  "kernelspec": {
   "display_name": "Python 3",
   "language": "python",
   "name": "python3"
  },
  "language_info": {
   "codemirror_mode": {
    "name": "ipython",
    "version": 3
   },
   "file_extension": ".py",
   "mimetype": "text/x-python",
   "name": "python",
   "nbconvert_exporter": "python",
   "pygments_lexer": "ipython3",
   "version": "3.7.6"
  }
 },
 "nbformat": 4,
 "nbformat_minor": 4
}
