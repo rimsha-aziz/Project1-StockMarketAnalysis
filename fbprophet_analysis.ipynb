{
 "cells": [
  {
   "cell_type": "code",
   "execution_count": 80,
   "metadata": {},
   "outputs": [],
   "source": [
    "from fbprophet import Prophet\n",
    "import pandas as pd\n",
    "import matplotlib.pyplot as plt\n",
    "import numpy as np"
   ]
  },
  {
   "cell_type": "code",
   "execution_count": 92,
   "metadata": {},
   "outputs": [
    {
     "data": {
      "text/html": [
       "<div>\n",
       "<style scoped>\n",
       "    .dataframe tbody tr th:only-of-type {\n",
       "        vertical-align: middle;\n",
       "    }\n",
       "\n",
       "    .dataframe tbody tr th {\n",
       "        vertical-align: top;\n",
       "    }\n",
       "\n",
       "    .dataframe thead th {\n",
       "        text-align: right;\n",
       "    }\n",
       "</style>\n",
       "<table border=\"1\" class=\"dataframe\">\n",
       "  <thead>\n",
       "    <tr style=\"text-align: right;\">\n",
       "      <th></th>\n",
       "      <th>ds</th>\n",
       "      <th>y</th>\n",
       "    </tr>\n",
       "  </thead>\n",
       "  <tbody>\n",
       "    <tr>\n",
       "      <th>0</th>\n",
       "      <td>2018-06-01</td>\n",
       "      <td>11936.93</td>\n",
       "    </tr>\n",
       "    <tr>\n",
       "      <th>1</th>\n",
       "      <td>2018-06-04</td>\n",
       "      <td>12006.70</td>\n",
       "    </tr>\n",
       "    <tr>\n",
       "      <th>2</th>\n",
       "      <td>2018-06-05</td>\n",
       "      <td>12051.29</td>\n",
       "    </tr>\n",
       "    <tr>\n",
       "      <th>3</th>\n",
       "      <td>2018-06-06</td>\n",
       "      <td>12137.54</td>\n",
       "    </tr>\n",
       "    <tr>\n",
       "      <th>4</th>\n",
       "      <td>2018-06-07</td>\n",
       "      <td>12073.21</td>\n",
       "    </tr>\n",
       "    <tr>\n",
       "      <th>...</th>\n",
       "      <td>...</td>\n",
       "      <td>...</td>\n",
       "    </tr>\n",
       "    <tr>\n",
       "      <th>448</th>\n",
       "      <td>2020-03-13</td>\n",
       "      <td>11796.03</td>\n",
       "    </tr>\n",
       "    <tr>\n",
       "      <th>449</th>\n",
       "      <td>2020-03-16</td>\n",
       "      <td>10328.14</td>\n",
       "    </tr>\n",
       "    <tr>\n",
       "      <th>450</th>\n",
       "      <td>2020-03-17</td>\n",
       "      <td>10970.48</td>\n",
       "    </tr>\n",
       "    <tr>\n",
       "      <th>451</th>\n",
       "      <td>2020-03-18</td>\n",
       "      <td>10379.10</td>\n",
       "    </tr>\n",
       "    <tr>\n",
       "      <th>452</th>\n",
       "      <td>2020-03-19</td>\n",
       "      <td>10618.72</td>\n",
       "    </tr>\n",
       "  </tbody>\n",
       "</table>\n",
       "<p>453 rows × 2 columns</p>\n",
       "</div>"
      ],
      "text/plain": [
       "             ds         y\n",
       "0    2018-06-01  11936.93\n",
       "1    2018-06-04  12006.70\n",
       "2    2018-06-05  12051.29\n",
       "3    2018-06-06  12137.54\n",
       "4    2018-06-07  12073.21\n",
       "..          ...       ...\n",
       "448  2020-03-13  11796.03\n",
       "449  2020-03-16  10328.14\n",
       "450  2020-03-17  10970.48\n",
       "451  2020-03-18  10379.10\n",
       "452  2020-03-19  10618.72\n",
       "\n",
       "[453 rows x 2 columns]"
      ]
     },
     "execution_count": 92,
     "metadata": {},
     "output_type": "execute_result"
    }
   ],
   "source": [
    "#Import housing and stock data\n",
    "stock_file = 'Resources/daily_1988to2020_data.csv'\n",
    "stock_data_1988to2020 = pd.read_csv(stock_file,index_col=0)\n",
    "stock_data_2018to2020 = stock_data_1988to2020['2018-06-01':'2020-03-19']\n",
    "stock_data_2018to2020 = stock_data_2018to2020.reset_index()\n",
    "stock_data_2018to2020 = stock_data_2018to2020.rename(columns={'Date':'ds','Close':'y'})\n",
    "stock_data_2018to2020"
   ]
  },
  {
   "cell_type": "code",
   "execution_count": 93,
   "metadata": {},
   "outputs": [
    {
     "name": "stderr",
     "output_type": "stream",
     "text": [
      "INFO:fbprophet:Disabling yearly seasonality. Run prophet with yearly_seasonality=True to override this.\n",
      "INFO:fbprophet:Disabling daily seasonality. Run prophet with daily_seasonality=True to override this.\n"
     ]
    },
    {
     "data": {
      "text/plain": [
       "<fbprophet.forecaster.Prophet at 0x20d8007e2c8>"
      ]
     },
     "execution_count": 93,
     "metadata": {},
     "output_type": "execute_result"
    }
   ],
   "source": [
    "#Use fbprophet to fit data into model\n",
    "model = Prophet()\n",
    "model.fit(stock_data_2018to2020)"
   ]
  },
  {
   "cell_type": "code",
   "execution_count": 94,
   "metadata": {},
   "outputs": [],
   "source": [
    "#Get forecast with fbprophet\n",
    "future = model.make_future_dataframe(periods=365,freq='d')\n",
    "forecast = model.predict(future)"
   ]
  },
  {
   "cell_type": "code",
   "execution_count": 95,
   "metadata": {},
   "outputs": [],
   "source": [
    "stock_data_2018to2020.set_index('ds', inplace=True)\n",
    "forecast.set_index('ds', inplace=True)\n",
    "\n",
    "connect_date = stock_data_2018to2020.index[-2]\n",
    "mask = (forecast.index > connect_date)\n",
    "predict_df = forecast.loc[mask]\n",
    "\n",
    "viz_df = stock_data_2018to2020.join(predict_df[['yhat', 'yhat_lower','yhat_upper']], how = 'outer')"
   ]
  },
  {
   "cell_type": "code",
   "execution_count": 96,
   "metadata": {},
   "outputs": [
    {
     "name": "stderr",
     "output_type": "stream",
     "text": [
      "C:\\ProgramData\\Anaconda3\\lib\\site-packages\\pandas\\core\\series.py:679: RuntimeWarning:\n",
      "\n",
      "overflow encountered in exp\n",
      "\n",
      "WARNING:matplotlib.legend:No handles with labels found to put in legend.\n"
     ]
    },
    {
     "data": {
      "image/png": "[encoded data removed]",
      "text/plain": [
       "<Figure size 432x288 with 1 Axes>"
      ]
     },
     "metadata": {
      "needs_background": "light"
     },
     "output_type": "display_data"
    }
   ],
   "source": [
    "fig, ax1 = plt.subplots()\n",
    "ax1.plot(viz_df.y)\n",
    "ax1.plot(viz_df.yhat, color='black', linestyle=':')\n",
    "ax1.fill_between(viz_df.index, np.exp(viz_df['yhat_upper']), np.exp(viz_df['yhat_lower']), alpha=0.5, color='darkgray')\n",
    "ax1.set_title('Sales (Orange) vs Sales Forecast (Black)')\n",
    "ax1.set_ylabel('Dollar Sales')\n",
    "ax1.set_xlabel('Date')\n",
    "\n",
    "L=ax1.legend() #get the legend"
   ]
  },
  {
   "cell_type": "code",
   "execution_count": null,
   "metadata": {},
   "outputs": [],
   "source": []
  }
 ],
 "metadata": {},
 "nbformat": 4,
 "nbformat_minor": 4
}
