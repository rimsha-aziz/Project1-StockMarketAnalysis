{
 "cells": [
  {
   "cell_type": "code",
   "execution_count": 1,
   "metadata": {},
   "outputs": [],
   "source": [
    "import scipy.stats as st\n",
    "import pandas as pd\n",
    "import matplotlib.pyplot as plt\n",
    "import scipy.stats as st\n",
    "import numpy as np\n",
    "from fbprophet import Prophet"
   ]
  },
  {
   "cell_type": "code",
   "execution_count": 2,
   "metadata": {},
   "outputs": [],
   "source": [
    "#Import needed stock and housing data\n",
    "housing_file = 'Resources/housing_data.csv'\n",
    "housing = pd.read_csv(housing_file,index_col=0)\n",
    "housing.set_index('date',inplace=True)\n",
    "\n",
    "monthly_1990_stockdata_file = 'Resources/monthly_1990_data.csv'\n",
    "monthly_1990_stockdata = pd.read_csv(monthly_1990_stockdata_file,index_col=0)\n",
    "monthly_1990_stockdata_drop = monthly_1990_stockdata['1990-06-01':'1990-11-01']\n",
    "\n",
    "monthly_dotcom_stockdata_file = 'Resources/monthly_dotcom_data.csv'\n",
    "monthly_dotcom_stockdata = pd.read_csv(monthly_dotcom_stockdata_file,index_col=0)\n",
    "monthly_dotcom_stockdata_drop = monthly_dotcom_stockdata['2000-03-24':'2002-10-09']\n",
    "\n",
    "monthly_2008_stockdata_file = 'Resources/monthly_2008_data.csv'\n",
    "monthly_2008_stockdata = pd.read_csv(monthly_2008_stockdata_file,index_col=0)\n",
    "monthly_2008_stockdata_drop = monthly_2008_stockdata['2007-10-31':'2009-03-09']\n"
   ]
  },
  {
   "cell_type": "code",
   "execution_count": 16,
   "metadata": {},
   "outputs": [
    {
     "name": "stderr",
     "output_type": "stream",
     "text": [
      "C:\\ProgramData\\Anaconda3\\lib\\site-packages\\ipykernel_launcher.py:6: SettingWithCopyWarning:\n",
      "\n",
      "\n",
      "A value is trying to be set on a copy of a slice from a DataFrame.\n",
      "Try using .loc[row_indexer,col_indexer] = value instead\n",
      "\n",
      "See the caveats in the documentation: https://pandas.pydata.org/pandas-docs/stable/user_guide/indexing.html#returning-a-view-versus-a-copy\n",
      "\n",
      "C:\\ProgramData\\Anaconda3\\lib\\site-packages\\ipykernel_launcher.py:9: SettingWithCopyWarning:\n",
      "\n",
      "\n",
      "A value is trying to be set on a copy of a slice from a DataFrame.\n",
      "Try using .loc[row_indexer,col_indexer] = value instead\n",
      "\n",
      "See the caveats in the documentation: https://pandas.pydata.org/pandas-docs/stable/user_guide/indexing.html#returning-a-view-versus-a-copy\n",
      "\n",
      "C:\\ProgramData\\Anaconda3\\lib\\site-packages\\ipykernel_launcher.py:12: SettingWithCopyWarning:\n",
      "\n",
      "\n",
      "A value is trying to be set on a copy of a slice from a DataFrame.\n",
      "Try using .loc[row_indexer,col_indexer] = value instead\n",
      "\n",
      "See the caveats in the documentation: https://pandas.pydata.org/pandas-docs/stable/user_guide/indexing.html#returning-a-view-versus-a-copy\n",
      "\n"
     ]
    },
    {
     "data": {
      "text/plain": [
       "517.3333333333334"
      ]
     },
     "execution_count": 16,
     "metadata": {},
     "output_type": "execute_result"
    }
   ],
   "source": [
    "#Get linear regression slopes\n",
    "def lin_regression(data):\n",
    "    slope, intercept, r_value, p_value, std_err = st.linregress(data['Days Since'], data['Price'])\n",
    "    return slope\n",
    "\n",
    "monthly_1990_stockdata_drop['Days Since'] = [(pd.to_datetime(x) - pd.to_datetime(monthly_1990_stockdata_drop.index[0])).days for x in monthly_1990_stockdata_drop.index]\n",
    "slope_monthly_1990_stockdata_drop = lin_regression(monthly_1990_stockdata_drop)\n",
    "\n",
    "monthly_dotcom_stockdata_drop['Days Since'] = [(pd.to_datetime(x) - pd.to_datetime(monthly_dotcom_stockdata_drop.index[0])).days for x in monthly_dotcom_stockdata_drop.index]\n",
    "slope_monthly_dotcom_stockdata_drop = lin_regression(monthly_dotcom_stockdata_drop)\n",
    "\n",
    "monthly_2008_stockdata_drop['Days Since'] = [(pd.to_datetime(x) - pd.to_datetime(monthly_2008_stockdata_drop.index[0])).days for x in monthly_2008_stockdata_drop.index]\n",
    "slope_monthly_2008_stockdata_drop = lin_regression(monthly_2008_stockdata_drop)\n",
    "\n",
    "average_slope = np.mean([slope_monthly_1990_stockdata_drop,slope_monthly_dotcom_stockdata_drop,slope_monthly_2008_stockdata_drop])\n",
    "average_days = np.mean([monthly_1990_stockdata_drop['Days Since'][-1],monthly_dotcom_stockdata_drop['Days Since'][-1],monthly_2008_stockdata_drop['Days Since'][-1]])\n",
    "average_days_tomonths = int((average_days - average_days%30)/30)"
   ]
  },
  {
   "cell_type": "code",
   "execution_count": 36,
   "metadata": {},
   "outputs": [
    {
     "data": {
      "text/plain": [
       "Index(['1988-01-01', '1988-02-01', '1988-03-01', '1988-04-01', '1988-05-01',\n",
       "       '1988-06-01', '1988-07-01', '1988-08-01', '1988-09-01', '1988-10-01',\n",
       "       ...\n",
       "       '2019-06-01', '2019-07-01', '2019-08-01', '2019-09-01', '2019-10-01',\n",
       "       '2019-11-01', '2019-12-01', '2020-01-01', '2020-02-01', '2020-03-01'],\n",
       "      dtype='object', name='Date', length=387)"
      ]
     },
     "execution_count": 36,
     "metadata": {},
     "output_type": "execute_result"
    }
   ],
   "source": [
    "#import 2019 to present data\n",
    "stock_data_file = 'Resources/monthly_1988to2020_data.csv'\n",
    "stock_data_1988to2020 = pd.read_csv(stock_data_file,index_col=0)\n",
    "stock_data_2019topresent = stock_data_1988to2020['2019-01-01':'2020-03-01']\n",
    "stock_data_2019topresent_fbprophet = stock_data_2019topresent.copy()\n",
    "stock_data_2019topresent_fbprophet.reset_index(inplace=True)\n",
    "stock_data_2019topresent_fbprophet = stock_data_2019topresent_fbprophet.rename(columns={'Date':'ds','Price':'y'})"
   ]
  },
  {
   "cell_type": "code",
   "execution_count": 25,
   "metadata": {},
   "outputs": [
    {
     "name": "stderr",
     "output_type": "stream",
     "text": [
      "INFO:fbprophet:Disabling yearly seasonality. Run prophet with yearly_seasonality=True to override this.\n",
      "INFO:fbprophet:Disabling weekly seasonality. Run prophet with weekly_seasonality=True to override this.\n",
      "INFO:fbprophet:Disabling daily seasonality. Run prophet with daily_seasonality=True to override this.\n",
      "INFO:fbprophet:n_changepoints greater than number of observations. Using 11.\n"
     ]
    }
   ],
   "source": [
    "#Make prediction dataframe with new dates\n",
    "model = Prophet()\n",
    "model.fit(stock_data_2019topresent_fbprophet)\n",
    "future = model.make_future_dataframe(periods=int(average_days))\n",
    "future = future.rename(columns={'ds':'Date'})\n",
    "future = future.set_index('Date')\n",
    "future = future['2020-03-02':]"
   ]
  },
  {
   "cell_type": "code",
   "execution_count": 26,
   "metadata": {},
   "outputs": [
    {
     "name": "stderr",
     "output_type": "stream",
     "text": [
      "C:\\ProgramData\\Anaconda3\\lib\\site-packages\\ipykernel_launcher.py:1: SettingWithCopyWarning:\n",
      "\n",
      "\n",
      "A value is trying to be set on a copy of a slice from a DataFrame.\n",
      "Try using .loc[row_indexer,col_indexer] = value instead\n",
      "\n",
      "See the caveats in the documentation: https://pandas.pydata.org/pandas-docs/stable/user_guide/indexing.html#returning-a-view-versus-a-copy\n",
      "\n"
     ]
    }
   ],
   "source": [
    "stock_data_2019topresent['Days Since'] = [(pd.to_datetime(x) - pd.to_datetime(stock_data_2019topresent.index[0])).days for x in stock_data_2019topresent.index]\n",
    "slope2019, intercept2019, r_value2019, p_value2019, std_err2019 = st.linregress(stock_data_2019topresent['Days Since'], stock_data_2019topresent['Price'])"
   ]
  },
  {
   "cell_type": "code",
   "execution_count": 50,
   "metadata": {},
   "outputs": [
    {
     "data": {
      "text/html": [
       "<div>\n",
       "<style scoped>\n",
       "    .dataframe tbody tr th:only-of-type {\n",
       "        vertical-align: middle;\n",
       "    }\n",
       "\n",
       "    .dataframe tbody tr th {\n",
       "        vertical-align: top;\n",
       "    }\n",
       "\n",
       "    .dataframe thead th {\n",
       "        text-align: right;\n",
       "    }\n",
       "</style>\n",
       "<table border=\"1\" class=\"dataframe\">\n",
       "  <thead>\n",
       "    <tr style=\"text-align: right;\">\n",
       "      <th></th>\n",
       "      <th>Price</th>\n",
       "      <th>Days Since</th>\n",
       "    </tr>\n",
       "    <tr>\n",
       "      <th>Date</th>\n",
       "      <th></th>\n",
       "      <th></th>\n",
       "    </tr>\n",
       "  </thead>\n",
       "  <tbody>\n",
       "    <tr>\n",
       "      <th>2020-03-02</th>\n",
       "      <td>11583.369155</td>\n",
       "      <td>0</td>\n",
       "    </tr>\n",
       "    <tr>\n",
       "      <th>2020-03-03</th>\n",
       "      <td>11579.951723</td>\n",
       "      <td>1</td>\n",
       "    </tr>\n",
       "    <tr>\n",
       "      <th>2020-03-04</th>\n",
       "      <td>11576.534291</td>\n",
       "      <td>2</td>\n",
       "    </tr>\n",
       "    <tr>\n",
       "      <th>2020-03-05</th>\n",
       "      <td>11573.116858</td>\n",
       "      <td>3</td>\n",
       "    </tr>\n",
       "    <tr>\n",
       "      <th>2020-03-06</th>\n",
       "      <td>11569.699426</td>\n",
       "      <td>4</td>\n",
       "    </tr>\n",
       "    <tr>\n",
       "      <th>...</th>\n",
       "      <td>...</td>\n",
       "      <td>...</td>\n",
       "    </tr>\n",
       "    <tr>\n",
       "      <th>2021-07-27</th>\n",
       "      <td>9833.643934</td>\n",
       "      <td>512</td>\n",
       "    </tr>\n",
       "    <tr>\n",
       "      <th>2021-07-28</th>\n",
       "      <td>9830.226502</td>\n",
       "      <td>513</td>\n",
       "    </tr>\n",
       "    <tr>\n",
       "      <th>2021-07-29</th>\n",
       "      <td>9826.809070</td>\n",
       "      <td>514</td>\n",
       "    </tr>\n",
       "    <tr>\n",
       "      <th>2021-07-30</th>\n",
       "      <td>9823.391638</td>\n",
       "      <td>515</td>\n",
       "    </tr>\n",
       "    <tr>\n",
       "      <th>2021-07-31</th>\n",
       "      <td>9819.974206</td>\n",
       "      <td>516</td>\n",
       "    </tr>\n",
       "  </tbody>\n",
       "</table>\n",
       "<p>517 rows × 2 columns</p>\n",
       "</div>"
      ],
      "text/plain": [
       "                   Price  Days Since\n",
       "Date                                \n",
       "2020-03-02  11583.369155           0\n",
       "2020-03-03  11579.951723           1\n",
       "2020-03-04  11576.534291           2\n",
       "2020-03-05  11573.116858           3\n",
       "2020-03-06  11569.699426           4\n",
       "...                  ...         ...\n",
       "2021-07-27   9833.643934         512\n",
       "2021-07-28   9830.226502         513\n",
       "2021-07-29   9826.809070         514\n",
       "2021-07-30   9823.391638         515\n",
       "2021-07-31   9819.974206         516\n",
       "\n",
       "[517 rows x 2 columns]"
      ]
     },
     "execution_count": 50,
     "metadata": {},
     "output_type": "execute_result"
    }
   ],
   "source": [
    "future['Days Since'] = [(pd.to_datetime(x) - pd.to_datetime(future.index[0])).days for x in future.index]\n",
    "future['Price'] = average_slope*future['Days Since'] + intercept2019"
   ]
  },
  {
   "cell_type": "code",
   "execution_count": 57,
   "metadata": {},
   "outputs": [
    {
     "data": {
      "text/plain": [
       "Text(0.5, 1.0, 'Stock Price prediction model')"
      ]
     },
     "execution_count": 57,
     "metadata": {},
     "output_type": "execute_result"
    },
    {
     "data": {
      "image/png": "[encoded data removed]",
      "text/plain": [
       "<Figure size 432x288 with 1 Axes>"
      ]
     },
     "metadata": {
      "needs_background": "light"
     },
     "output_type": "display_data"
    }
   ],
   "source": [
    "stock_data_2019topresent.index = pd.to_datetime(stock_data_2019topresent.index)\n",
    "\n",
    "plt.plot(stock_data_2019topresent.index,stock_data_2019topresent)\n",
    "plt.plot(future.index,future['Price'])\n",
    "plt.xlabel('Date')\n",
    "plt.ylabel('Stock (USD)')\n",
    "plt.xticks(rotation=45)\n",
    "plt.title('Stock Price prediction model')"
   ]
  },
  {
   "cell_type": "code",
   "execution_count": null,
   "metadata": {},
   "outputs": [],
   "source": []
  }
 ],
 "metadata": {
  "kernelspec": {
   "display_name": "Python 3",
   "language": "python",
   "name": "python3"
  },
  "language_info": {
   "codemirror_mode": {
    "name": "ipython",
    "version": 3
   },
   "file_extension": ".py",
   "mimetype": "text/x-python",
   "name": "python",
   "nbconvert_exporter": "python",
   "pygments_lexer": "ipython3",
   "version": "3.7.6"
  }
 },
 "nbformat": 4,
 "nbformat_minor": 4
}
